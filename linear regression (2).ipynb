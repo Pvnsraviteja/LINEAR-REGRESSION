{
 "cells": [
  {
   "cell_type": "code",
   "execution_count": 164,
   "metadata": {},
   "outputs": [],
   "source": [
    "import xlrd\n"
   ]
  },
  {
   "cell_type": "code",
   "execution_count": 165,
   "metadata": {},
   "outputs": [],
   "source": [
    "import matplotlib.pyplot as plt"
   ]
  },
  {
   "cell_type": "code",
   "execution_count": 166,
   "metadata": {},
   "outputs": [],
   "source": [
    "import numpy as np"
   ]
  },
  {
   "cell_type": "code",
   "execution_count": 167,
   "metadata": {},
   "outputs": [],
   "source": [
    "import seaborn as sns"
   ]
  },
  {
   "cell_type": "code",
   "execution_count": 168,
   "metadata": {},
   "outputs": [],
   "source": [
    "import pandas as pd"
   ]
  },
  {
   "cell_type": "code",
   "execution_count": 169,
   "metadata": {},
   "outputs": [],
   "source": [
    "df=pd.read_csv(r'C:\\Users\\91949\\Downloads\\house.csv')"
   ]
  },
  {
   "cell_type": "code",
   "execution_count": 170,
   "metadata": {},
   "outputs": [
    {
     "data": {
      "text/html": [
       "<div>\n",
       "<style scoped>\n",
       "    .dataframe tbody tr th:only-of-type {\n",
       "        vertical-align: middle;\n",
       "    }\n",
       "\n",
       "    .dataframe tbody tr th {\n",
       "        vertical-align: top;\n",
       "    }\n",
       "\n",
       "    .dataframe thead th {\n",
       "        text-align: right;\n",
       "    }\n",
       "</style>\n",
       "<table border=\"1\" class=\"dataframe\">\n",
       "  <thead>\n",
       "    <tr style=\"text-align: right;\">\n",
       "      <th></th>\n",
       "      <th>Unnamed: 0</th>\n",
       "      <th>Sqft</th>\n",
       "      <th>Floor</th>\n",
       "      <th>TotalFloor</th>\n",
       "      <th>Bedroom</th>\n",
       "      <th>Living.Room</th>\n",
       "      <th>Bathroom</th>\n",
       "      <th>Price</th>\n",
       "    </tr>\n",
       "  </thead>\n",
       "  <tbody>\n",
       "    <tr>\n",
       "      <th>0</th>\n",
       "      <td>1</td>\n",
       "      <td>1177.698</td>\n",
       "      <td>2</td>\n",
       "      <td>7</td>\n",
       "      <td>2</td>\n",
       "      <td>2</td>\n",
       "      <td>2</td>\n",
       "      <td>62000</td>\n",
       "    </tr>\n",
       "    <tr>\n",
       "      <th>1</th>\n",
       "      <td>2</td>\n",
       "      <td>2134.800</td>\n",
       "      <td>5</td>\n",
       "      <td>7</td>\n",
       "      <td>4</td>\n",
       "      <td>2</td>\n",
       "      <td>2</td>\n",
       "      <td>78000</td>\n",
       "    </tr>\n",
       "    <tr>\n",
       "      <th>2</th>\n",
       "      <td>3</td>\n",
       "      <td>1138.560</td>\n",
       "      <td>5</td>\n",
       "      <td>7</td>\n",
       "      <td>2</td>\n",
       "      <td>2</td>\n",
       "      <td>1</td>\n",
       "      <td>58000</td>\n",
       "    </tr>\n",
       "    <tr>\n",
       "      <th>3</th>\n",
       "      <td>4</td>\n",
       "      <td>1458.780</td>\n",
       "      <td>2</td>\n",
       "      <td>7</td>\n",
       "      <td>3</td>\n",
       "      <td>2</td>\n",
       "      <td>2</td>\n",
       "      <td>45000</td>\n",
       "    </tr>\n",
       "    <tr>\n",
       "      <th>4</th>\n",
       "      <td>5</td>\n",
       "      <td>967.776</td>\n",
       "      <td>11</td>\n",
       "      <td>14</td>\n",
       "      <td>3</td>\n",
       "      <td>2</td>\n",
       "      <td>2</td>\n",
       "      <td>45000</td>\n",
       "    </tr>\n",
       "    <tr>\n",
       "      <th>...</th>\n",
       "      <td>...</td>\n",
       "      <td>...</td>\n",
       "      <td>...</td>\n",
       "      <td>...</td>\n",
       "      <td>...</td>\n",
       "      <td>...</td>\n",
       "      <td>...</td>\n",
       "      <td>...</td>\n",
       "    </tr>\n",
       "    <tr>\n",
       "      <th>640</th>\n",
       "      <td>644</td>\n",
       "      <td>1359.156</td>\n",
       "      <td>7</td>\n",
       "      <td>15</td>\n",
       "      <td>3</td>\n",
       "      <td>2</td>\n",
       "      <td>2</td>\n",
       "      <td>45000</td>\n",
       "    </tr>\n",
       "    <tr>\n",
       "      <th>641</th>\n",
       "      <td>645</td>\n",
       "      <td>377.148</td>\n",
       "      <td>4</td>\n",
       "      <td>10</td>\n",
       "      <td>1</td>\n",
       "      <td>1</td>\n",
       "      <td>1</td>\n",
       "      <td>24800</td>\n",
       "    </tr>\n",
       "    <tr>\n",
       "      <th>642</th>\n",
       "      <td>646</td>\n",
       "      <td>740.064</td>\n",
       "      <td>13</td>\n",
       "      <td>14</td>\n",
       "      <td>1</td>\n",
       "      <td>1</td>\n",
       "      <td>1</td>\n",
       "      <td>45000</td>\n",
       "    </tr>\n",
       "    <tr>\n",
       "      <th>643</th>\n",
       "      <td>647</td>\n",
       "      <td>1707.840</td>\n",
       "      <td>3</td>\n",
       "      <td>14</td>\n",
       "      <td>3</td>\n",
       "      <td>2</td>\n",
       "      <td>2</td>\n",
       "      <td>65000</td>\n",
       "    </tr>\n",
       "    <tr>\n",
       "      <th>644</th>\n",
       "      <td>648</td>\n",
       "      <td>1376.946</td>\n",
       "      <td>6</td>\n",
       "      <td>7</td>\n",
       "      <td>3</td>\n",
       "      <td>2</td>\n",
       "      <td>1</td>\n",
       "      <td>36000</td>\n",
       "    </tr>\n",
       "  </tbody>\n",
       "</table>\n",
       "<p>645 rows × 8 columns</p>\n",
       "</div>"
      ],
      "text/plain": [
       "     Unnamed: 0      Sqft  Floor  TotalFloor  Bedroom  Living.Room  Bathroom  \\\n",
       "0             1  1177.698      2           7        2            2         2   \n",
       "1             2  2134.800      5           7        4            2         2   \n",
       "2             3  1138.560      5           7        2            2         1   \n",
       "3             4  1458.780      2           7        3            2         2   \n",
       "4             5   967.776     11          14        3            2         2   \n",
       "..          ...       ...    ...         ...      ...          ...       ...   \n",
       "640         644  1359.156      7          15        3            2         2   \n",
       "641         645   377.148      4          10        1            1         1   \n",
       "642         646   740.064     13          14        1            1         1   \n",
       "643         647  1707.840      3          14        3            2         2   \n",
       "644         648  1376.946      6           7        3            2         1   \n",
       "\n",
       "     Price  \n",
       "0    62000  \n",
       "1    78000  \n",
       "2    58000  \n",
       "3    45000  \n",
       "4    45000  \n",
       "..     ...  \n",
       "640  45000  \n",
       "641  24800  \n",
       "642  45000  \n",
       "643  65000  \n",
       "644  36000  \n",
       "\n",
       "[645 rows x 8 columns]"
      ]
     },
     "execution_count": 170,
     "metadata": {},
     "output_type": "execute_result"
    }
   ],
   "source": [
    "df"
   ]
  },
  {
   "cell_type": "code",
   "execution_count": 171,
   "metadata": {},
   "outputs": [
    {
     "data": {
      "text/html": [
       "<div>\n",
       "<style scoped>\n",
       "    .dataframe tbody tr th:only-of-type {\n",
       "        vertical-align: middle;\n",
       "    }\n",
       "\n",
       "    .dataframe tbody tr th {\n",
       "        vertical-align: top;\n",
       "    }\n",
       "\n",
       "    .dataframe thead th {\n",
       "        text-align: right;\n",
       "    }\n",
       "</style>\n",
       "<table border=\"1\" class=\"dataframe\">\n",
       "  <thead>\n",
       "    <tr style=\"text-align: right;\">\n",
       "      <th></th>\n",
       "      <th>Unnamed: 0</th>\n",
       "      <th>Sqft</th>\n",
       "      <th>Floor</th>\n",
       "      <th>TotalFloor</th>\n",
       "      <th>Bedroom</th>\n",
       "      <th>Living.Room</th>\n",
       "      <th>Bathroom</th>\n",
       "      <th>Price</th>\n",
       "    </tr>\n",
       "  </thead>\n",
       "  <tbody>\n",
       "    <tr>\n",
       "      <th>count</th>\n",
       "      <td>645.000000</td>\n",
       "      <td>645.000000</td>\n",
       "      <td>645.000000</td>\n",
       "      <td>645.000000</td>\n",
       "      <td>645.000000</td>\n",
       "      <td>645.000000</td>\n",
       "      <td>645.000000</td>\n",
       "      <td>645.000000</td>\n",
       "    </tr>\n",
       "    <tr>\n",
       "      <th>mean</th>\n",
       "      <td>325.159690</td>\n",
       "      <td>1527.656260</td>\n",
       "      <td>5.939535</td>\n",
       "      <td>10.855814</td>\n",
       "      <td>2.837209</td>\n",
       "      <td>1.813953</td>\n",
       "      <td>1.810853</td>\n",
       "      <td>61986.823256</td>\n",
       "    </tr>\n",
       "    <tr>\n",
       "      <th>std</th>\n",
       "      <td>187.312152</td>\n",
       "      <td>767.386531</td>\n",
       "      <td>3.884721</td>\n",
       "      <td>4.996208</td>\n",
       "      <td>1.010740</td>\n",
       "      <td>0.462364</td>\n",
       "      <td>0.683574</td>\n",
       "      <td>35635.091007</td>\n",
       "    </tr>\n",
       "    <tr>\n",
       "      <th>min</th>\n",
       "      <td>1.000000</td>\n",
       "      <td>359.358000</td>\n",
       "      <td>1.000000</td>\n",
       "      <td>1.000000</td>\n",
       "      <td>1.000000</td>\n",
       "      <td>0.000000</td>\n",
       "      <td>0.000000</td>\n",
       "      <td>6100.000000</td>\n",
       "    </tr>\n",
       "    <tr>\n",
       "      <th>25%</th>\n",
       "      <td>164.000000</td>\n",
       "      <td>925.080000</td>\n",
       "      <td>3.000000</td>\n",
       "      <td>7.000000</td>\n",
       "      <td>2.000000</td>\n",
       "      <td>2.000000</td>\n",
       "      <td>1.000000</td>\n",
       "      <td>39000.000000</td>\n",
       "    </tr>\n",
       "    <tr>\n",
       "      <th>50%</th>\n",
       "      <td>326.000000</td>\n",
       "      <td>1423.200000</td>\n",
       "      <td>5.000000</td>\n",
       "      <td>12.000000</td>\n",
       "      <td>3.000000</td>\n",
       "      <td>2.000000</td>\n",
       "      <td>2.000000</td>\n",
       "      <td>50000.000000</td>\n",
       "    </tr>\n",
       "    <tr>\n",
       "      <th>75%</th>\n",
       "      <td>487.000000</td>\n",
       "      <td>1892.856000</td>\n",
       "      <td>8.000000</td>\n",
       "      <td>14.000000</td>\n",
       "      <td>4.000000</td>\n",
       "      <td>2.000000</td>\n",
       "      <td>2.000000</td>\n",
       "      <td>75000.000000</td>\n",
       "    </tr>\n",
       "    <tr>\n",
       "      <th>max</th>\n",
       "      <td>648.000000</td>\n",
       "      <td>5856.468000</td>\n",
       "      <td>22.000000</td>\n",
       "      <td>38.000000</td>\n",
       "      <td>7.000000</td>\n",
       "      <td>4.000000</td>\n",
       "      <td>5.000000</td>\n",
       "      <td>250000.000000</td>\n",
       "    </tr>\n",
       "  </tbody>\n",
       "</table>\n",
       "</div>"
      ],
      "text/plain": [
       "       Unnamed: 0         Sqft       Floor  TotalFloor     Bedroom  \\\n",
       "count  645.000000   645.000000  645.000000  645.000000  645.000000   \n",
       "mean   325.159690  1527.656260    5.939535   10.855814    2.837209   \n",
       "std    187.312152   767.386531    3.884721    4.996208    1.010740   \n",
       "min      1.000000   359.358000    1.000000    1.000000    1.000000   \n",
       "25%    164.000000   925.080000    3.000000    7.000000    2.000000   \n",
       "50%    326.000000  1423.200000    5.000000   12.000000    3.000000   \n",
       "75%    487.000000  1892.856000    8.000000   14.000000    4.000000   \n",
       "max    648.000000  5856.468000   22.000000   38.000000    7.000000   \n",
       "\n",
       "       Living.Room    Bathroom          Price  \n",
       "count   645.000000  645.000000     645.000000  \n",
       "mean      1.813953    1.810853   61986.823256  \n",
       "std       0.462364    0.683574   35635.091007  \n",
       "min       0.000000    0.000000    6100.000000  \n",
       "25%       2.000000    1.000000   39000.000000  \n",
       "50%       2.000000    2.000000   50000.000000  \n",
       "75%       2.000000    2.000000   75000.000000  \n",
       "max       4.000000    5.000000  250000.000000  "
      ]
     },
     "execution_count": 171,
     "metadata": {},
     "output_type": "execute_result"
    }
   ],
   "source": [
    "df.describe()"
   ]
  },
  {
   "cell_type": "code",
   "execution_count": 172,
   "metadata": {},
   "outputs": [],
   "source": [
    "df=df.fillna(df.mean())"
   ]
  },
  {
   "cell_type": "code",
   "execution_count": 173,
   "metadata": {},
   "outputs": [],
   "source": [
    "def hprice(p):\n",
    "    if p<50000:\n",
    "        return 'low' # 1= low\n",
    "    elif p<100000:\n",
    "        return 'medium'# 2= medium\n",
    "    else:\n",
    "        return 'high' # 3 = high\n",
    "    "
   ]
  },
  {
   "cell_type": "code",
   "execution_count": 174,
   "metadata": {},
   "outputs": [],
   "source": [
    "df['category']=df.Price.map(hprice)"
   ]
  },
  {
   "cell_type": "code",
   "execution_count": 175,
   "metadata": {},
   "outputs": [
    {
     "data": {
      "text/html": [
       "<div>\n",
       "<style scoped>\n",
       "    .dataframe tbody tr th:only-of-type {\n",
       "        vertical-align: middle;\n",
       "    }\n",
       "\n",
       "    .dataframe tbody tr th {\n",
       "        vertical-align: top;\n",
       "    }\n",
       "\n",
       "    .dataframe thead th {\n",
       "        text-align: right;\n",
       "    }\n",
       "</style>\n",
       "<table border=\"1\" class=\"dataframe\">\n",
       "  <thead>\n",
       "    <tr style=\"text-align: right;\">\n",
       "      <th></th>\n",
       "      <th>Unnamed: 0</th>\n",
       "      <th>Sqft</th>\n",
       "      <th>Floor</th>\n",
       "      <th>TotalFloor</th>\n",
       "      <th>Bedroom</th>\n",
       "      <th>Living.Room</th>\n",
       "      <th>Bathroom</th>\n",
       "      <th>Price</th>\n",
       "      <th>category</th>\n",
       "    </tr>\n",
       "  </thead>\n",
       "  <tbody>\n",
       "    <tr>\n",
       "      <th>0</th>\n",
       "      <td>1</td>\n",
       "      <td>1177.698</td>\n",
       "      <td>2</td>\n",
       "      <td>7</td>\n",
       "      <td>2</td>\n",
       "      <td>2</td>\n",
       "      <td>2</td>\n",
       "      <td>62000</td>\n",
       "      <td>medium</td>\n",
       "    </tr>\n",
       "    <tr>\n",
       "      <th>1</th>\n",
       "      <td>2</td>\n",
       "      <td>2134.800</td>\n",
       "      <td>5</td>\n",
       "      <td>7</td>\n",
       "      <td>4</td>\n",
       "      <td>2</td>\n",
       "      <td>2</td>\n",
       "      <td>78000</td>\n",
       "      <td>medium</td>\n",
       "    </tr>\n",
       "    <tr>\n",
       "      <th>2</th>\n",
       "      <td>3</td>\n",
       "      <td>1138.560</td>\n",
       "      <td>5</td>\n",
       "      <td>7</td>\n",
       "      <td>2</td>\n",
       "      <td>2</td>\n",
       "      <td>1</td>\n",
       "      <td>58000</td>\n",
       "      <td>medium</td>\n",
       "    </tr>\n",
       "    <tr>\n",
       "      <th>3</th>\n",
       "      <td>4</td>\n",
       "      <td>1458.780</td>\n",
       "      <td>2</td>\n",
       "      <td>7</td>\n",
       "      <td>3</td>\n",
       "      <td>2</td>\n",
       "      <td>2</td>\n",
       "      <td>45000</td>\n",
       "      <td>low</td>\n",
       "    </tr>\n",
       "    <tr>\n",
       "      <th>4</th>\n",
       "      <td>5</td>\n",
       "      <td>967.776</td>\n",
       "      <td>11</td>\n",
       "      <td>14</td>\n",
       "      <td>3</td>\n",
       "      <td>2</td>\n",
       "      <td>2</td>\n",
       "      <td>45000</td>\n",
       "      <td>low</td>\n",
       "    </tr>\n",
       "    <tr>\n",
       "      <th>...</th>\n",
       "      <td>...</td>\n",
       "      <td>...</td>\n",
       "      <td>...</td>\n",
       "      <td>...</td>\n",
       "      <td>...</td>\n",
       "      <td>...</td>\n",
       "      <td>...</td>\n",
       "      <td>...</td>\n",
       "      <td>...</td>\n",
       "    </tr>\n",
       "    <tr>\n",
       "      <th>640</th>\n",
       "      <td>644</td>\n",
       "      <td>1359.156</td>\n",
       "      <td>7</td>\n",
       "      <td>15</td>\n",
       "      <td>3</td>\n",
       "      <td>2</td>\n",
       "      <td>2</td>\n",
       "      <td>45000</td>\n",
       "      <td>low</td>\n",
       "    </tr>\n",
       "    <tr>\n",
       "      <th>641</th>\n",
       "      <td>645</td>\n",
       "      <td>377.148</td>\n",
       "      <td>4</td>\n",
       "      <td>10</td>\n",
       "      <td>1</td>\n",
       "      <td>1</td>\n",
       "      <td>1</td>\n",
       "      <td>24800</td>\n",
       "      <td>low</td>\n",
       "    </tr>\n",
       "    <tr>\n",
       "      <th>642</th>\n",
       "      <td>646</td>\n",
       "      <td>740.064</td>\n",
       "      <td>13</td>\n",
       "      <td>14</td>\n",
       "      <td>1</td>\n",
       "      <td>1</td>\n",
       "      <td>1</td>\n",
       "      <td>45000</td>\n",
       "      <td>low</td>\n",
       "    </tr>\n",
       "    <tr>\n",
       "      <th>643</th>\n",
       "      <td>647</td>\n",
       "      <td>1707.840</td>\n",
       "      <td>3</td>\n",
       "      <td>14</td>\n",
       "      <td>3</td>\n",
       "      <td>2</td>\n",
       "      <td>2</td>\n",
       "      <td>65000</td>\n",
       "      <td>medium</td>\n",
       "    </tr>\n",
       "    <tr>\n",
       "      <th>644</th>\n",
       "      <td>648</td>\n",
       "      <td>1376.946</td>\n",
       "      <td>6</td>\n",
       "      <td>7</td>\n",
       "      <td>3</td>\n",
       "      <td>2</td>\n",
       "      <td>1</td>\n",
       "      <td>36000</td>\n",
       "      <td>low</td>\n",
       "    </tr>\n",
       "  </tbody>\n",
       "</table>\n",
       "<p>645 rows × 9 columns</p>\n",
       "</div>"
      ],
      "text/plain": [
       "     Unnamed: 0      Sqft  Floor  TotalFloor  Bedroom  Living.Room  Bathroom  \\\n",
       "0             1  1177.698      2           7        2            2         2   \n",
       "1             2  2134.800      5           7        4            2         2   \n",
       "2             3  1138.560      5           7        2            2         1   \n",
       "3             4  1458.780      2           7        3            2         2   \n",
       "4             5   967.776     11          14        3            2         2   \n",
       "..          ...       ...    ...         ...      ...          ...       ...   \n",
       "640         644  1359.156      7          15        3            2         2   \n",
       "641         645   377.148      4          10        1            1         1   \n",
       "642         646   740.064     13          14        1            1         1   \n",
       "643         647  1707.840      3          14        3            2         2   \n",
       "644         648  1376.946      6           7        3            2         1   \n",
       "\n",
       "     Price category  \n",
       "0    62000   medium  \n",
       "1    78000   medium  \n",
       "2    58000   medium  \n",
       "3    45000      low  \n",
       "4    45000      low  \n",
       "..     ...      ...  \n",
       "640  45000      low  \n",
       "641  24800      low  \n",
       "642  45000      low  \n",
       "643  65000   medium  \n",
       "644  36000      low  \n",
       "\n",
       "[645 rows x 9 columns]"
      ]
     },
     "execution_count": 175,
     "metadata": {},
     "output_type": "execute_result"
    }
   ],
   "source": [
    "df"
   ]
  },
  {
   "cell_type": "code",
   "execution_count": 176,
   "metadata": {},
   "outputs": [
    {
     "data": {
      "image/png": "[encoded data removed]",
      "text/plain": [
       "<Figure size 432x288 with 1 Axes>"
      ]
     },
     "metadata": {},
     "output_type": "display_data"
    }
   ],
   "source": [
    "labels = 'High', 'Medium', 'low'\n",
    "plt.pie(df['category'].value_counts(),labels=labels)\n",
    "plt.show()"
   ]
  },
  {
   "cell_type": "code",
   "execution_count": 179,
   "metadata": {},
   "outputs": [],
   "source": [
    "x = df[['Sqft']]"
   ]
  },
  {
   "cell_type": "code",
   "execution_count": 180,
   "metadata": {},
   "outputs": [],
   "source": [
    "y = df['Price']"
   ]
  },
  {
   "cell_type": "code",
   "execution_count": 181,
   "metadata": {},
   "outputs": [],
   "source": [
    "from sklearn.model_selection import train_test_split\n",
    "x_train,x_test,y_train,y_test = train_test_split(x,y,test_size=0.2,random_state=1)"
   ]
  },
  {
   "cell_type": "code",
   "execution_count": 182,
   "metadata": {},
   "outputs": [],
   "source": [
    "from sklearn.linear_model import LinearRegression\n",
    "clf = LinearRegression()"
   ]
  },
  {
   "cell_type": "code",
   "execution_count": 183,
   "metadata": {},
   "outputs": [
    {
     "data": {
      "text/plain": [
       "LinearRegression(copy_X=True, fit_intercept=True, n_jobs=None, normalize=False)"
      ]
     },
     "execution_count": 183,
     "metadata": {},
     "output_type": "execute_result"
    }
   ],
   "source": [
    "clf.fit(x_train,y_train)"
   ]
  },
  {
   "cell_type": "code",
   "execution_count": 184,
   "metadata": {},
   "outputs": [
    {
     "name": "stdout",
     "output_type": "stream",
     "text": [
      "         Sqft\n",
      "537  1426.758\n",
      "349   818.340\n",
      "379  2184.612\n",
      "500  1102.980\n",
      "90   1992.480\n",
      "..        ...\n",
      "129   732.948\n",
      "144  1245.300\n",
      "72   1892.856\n",
      "235   587.070\n",
      "37    768.528\n",
      "\n",
      "[516 rows x 1 columns]\n"
     ]
    }
   ],
   "source": [
    "print(x_train)"
   ]
  },
  {
   "cell_type": "code",
   "execution_count": 185,
   "metadata": {},
   "outputs": [
    {
     "name": "stdout",
     "output_type": "stream",
     "text": [
      "537    48120\n",
      "349    42000\n",
      "379    63000\n",
      "500    50000\n",
      "90     70000\n",
      "       ...  \n",
      "129    27000\n",
      "144    39000\n",
      "72     90000\n",
      "235    36000\n",
      "37     60000\n",
      "Name: Price, Length: 516, dtype: int64\n"
     ]
    }
   ],
   "source": [
    "print(y_train)"
   ]
  },
  {
   "cell_type": "code",
   "execution_count": 186,
   "metadata": {},
   "outputs": [
    {
     "data": {
      "text/plain": [
       "array([ 57973.6298031 ,  34612.10489118,  87073.07311445,  45541.47327103,\n",
       "        79695.74945805,  63848.16530727,  35978.27593866,  30786.82595823,\n",
       "        60569.35479332,  76690.17315359,  68356.52976396,  21223.62862586,\n",
       "        91444.82046639,  28874.18649176,  61389.0574218 , 125052.62823442,\n",
       "        48000.58115649,  70542.40343993,  63028.46267878,  60296.12058382,\n",
       "        27781.24965377,  59203.18374584, 110024.74671213,  57837.01269835,\n",
       "        37071.21277664,  42809.13117606,  61389.0574218 ,  55377.90481289,\n",
       "        59886.26926958,  30513.59174873,  72864.89422065,  44175.30222354,\n",
       "        30513.59174873, 120817.49798723,  53738.49955591,  46497.79300426,\n",
       "        97455.9730753 ,  22316.56546385, 146638.13078462,  68766.3810782 ,\n",
       "        56470.84165087,  76280.32183935,  84613.96522898,  29420.65491075,\n",
       "        23682.73651133, 100871.40069401,  37344.44698614,  63438.31399303,\n",
       "       102647.42305573,  31606.52858672, 194454.11744645,  60842.58900281,\n",
       "        25868.6101873 ,  53738.49955591,  85160.43364797,  44175.30222354,\n",
       "        51006.15746095,  30786.82595823,  40076.7890811 ,  71225.48896367,\n",
       "        63848.16530727,  79695.74945805,  48000.58115649, 114942.96248306,\n",
       "        81061.92050553,  55651.13902238,  30513.59174873,  48000.58115649,\n",
       "        28464.33517751,  37344.44698614, 137758.01897599,  91991.28888538,\n",
       "        82428.09155301,  47863.96405174,  82428.09155301,  52645.56271793,\n",
       "        57837.01269835,  20950.39441637,  56197.60744138, 112483.85459759,\n",
       "        18218.05232141,  40350.0232906 ,  81608.38892452,  41033.10881434,\n",
       "        62481.99425979,  38710.61803362,  48273.81536599,  62345.37715504,\n",
       "        48273.81536599,  48000.58115649,  37344.44698614,  30513.59174873,\n",
       "       110024.74671213,  62345.37715504,  27781.24965377,  44175.30222354,\n",
       "        68083.29555446,  20403.92599737,  48273.81536599,  52372.32850843,\n",
       "        57837.01269835,  32836.08252945,  46771.02721376,  46907.64431851,\n",
       "        56334.22454613,  55104.67060339,  25185.52466356,  26415.07860629,\n",
       "        38710.61803362,  65487.57056425,  85980.13627646, 108385.34145515,\n",
       "        59476.41795533, 228061.92521449,  58110.24690785,  66443.89029748,\n",
       "        39666.93776686,  82564.70865776,  83930.87970524, 115216.19669256,\n",
       "       118768.24141601,  73821.21395388,  49093.51799448,  68629.76397345,\n",
       "        55651.13902238,  30513.59174873, 143905.78868966,  38710.61803362,\n",
       "        60569.35479332, 116035.89932104,  30513.59174873,  20130.69178788,\n",
       "        82428.09155301,  70132.55212568,  60022.88637432,  48683.66668023,\n",
       "        45541.47327103,  83794.26260049,  82018.24023877,  71225.48896367,\n",
       "        51825.86008944,  33792.40226269,  48683.66668023,  44448.53643304,\n",
       "        55104.67060339,  38710.61803362,  47317.49563275,  60296.12058382,\n",
       "        85160.43364797,  27781.24965377,  82564.70865776,  41442.96012858,\n",
       "        26415.07860629,  75733.85342036,  68766.3810782 ,  46907.64431851,\n",
       "        67400.21003072,  76280.32183935,  60296.12058382,  25868.6101873 ,\n",
       "       108385.34145515,  64667.86793576,  32699.4654247 ,  57837.01269835,\n",
       "        86663.2218002 ,  55377.90481289,  56744.07586037,  32152.99700571,\n",
       "        91991.28888538,  85570.28496222,  30786.82595823, 139807.27554721,\n",
       "        32426.23121521,  48956.90088973, 126145.5650724 ,  63438.31399303,\n",
       "        38710.61803362,  69722.70081144,  23682.73651133,  19857.45757838,\n",
       "        63301.69688828,  56197.60744138,  87892.77574294,  85297.05075272,\n",
       "       105652.99936019,  75870.4705251 ,  88166.00995243,  85297.05075272,\n",
       "        85160.43364797,  85433.66785747,  46361.17589951,  75597.23631561,\n",
       "        42809.13117606,  79012.66393431,  80242.21787704,  67400.21003072,\n",
       "        47454.1127375 ,  63848.16530727,  51006.15746095,  37344.44698614,\n",
       "        19584.22336889,  32152.99700571,  68766.3810782 ,  37344.44698614,\n",
       "        30513.59174873,  69722.70081144,  78329.57841057,  82564.70865776,\n",
       "        85160.43364797,  23955.97072083, 120680.88088248,  91991.28888538,\n",
       "        51962.47719419,  41442.96012858,  51689.24298469,  68766.3810782 ,\n",
       "        38710.61803362,  86526.60469546,  33245.9338437 ,  79832.3665628 ,\n",
       "        82428.09155301,  53601.88245116,  36934.59567189,  49503.36930872,\n",
       "        51006.15746095,  68493.14686871,  55104.67060339,  44175.30222354,\n",
       "        51416.00877519,  56060.99033663,  70542.40343993,  33519.16805319,\n",
       "        57837.01269835,  42809.13117606,  79695.74945805,  50186.45483246,\n",
       "        30786.82595823,  85160.43364797,  30513.59174873, 181475.49249538,\n",
       "        61798.90873605,  50459.68904196,  63574.93109777,  38300.76671938,\n",
       "        75597.23631561,  26278.46150154,  55651.13902238,  38710.61803362,\n",
       "        85706.90206697, 101417.869113  ,  62755.22846929,  60569.35479332,\n",
       "        53055.41403217,  88712.47837142,  46771.02721376, 127648.35322463,\n",
       "        30513.59174873,  85160.43364797,  32152.99700571, 128194.82164363,\n",
       "        71771.95738266,  85160.43364797,  75733.85342036,  63848.16530727,\n",
       "        36661.3614624 ,  67400.21003072,  37344.44698614,  58656.71532684,\n",
       "        85160.43364797,  56607.45875562,  71498.72317316,  71498.72317316,\n",
       "        72864.89422065, 160299.84125943,  87892.77574294,  30513.59174873,\n",
       "        31606.52858672,  48000.58115649,  62481.99425979,  30923.44306298,\n",
       "        23682.73651133,  85297.05075272,  40213.40618585,  66034.03898324,\n",
       "        71498.72317316,  56470.84165087, 106882.55330292,  61935.5258408 ,\n",
       "        63711.54820252, 119314.709835  ,  37754.29830038,  85160.43364797,\n",
       "        51689.24298469,  18218.05232141,  74231.06526813,  47863.96405174,\n",
       "        86526.60469546,  68493.14686871,  27781.24965377,  16988.49837867,\n",
       "        48820.28378498,  62481.99425979,  95679.95071358,  94040.5454566 ,\n",
       "        61525.67452655,  29830.50622499,  61389.0574218 ,  66443.89029748,\n",
       "        37344.44698614,  33792.40226269, 128194.82164363, 122047.05192996,\n",
       "        68766.3810782 ,  41442.96012858, 109478.27829314,  59203.18374584,\n",
       "        53328.64824167,  52508.94561318,  82018.24023877,  71225.48896367,\n",
       "        35568.42462441,  83384.41128625, 143905.78868966,  17944.81811191,\n",
       "        83794.26260049,  49503.36930872,  44858.38774728,  38300.76671938,\n",
       "        89258.94679042,  50323.07193721,  47454.1127375 ,  85160.43364797,\n",
       "        82428.09155301,  82428.09155301,  32836.08252945,  60569.35479332,\n",
       "       116992.21905428,  23682.73651133,  75050.76789661,  70815.63764942,\n",
       "        87346.30732394,  37754.29830038,  30103.74043449,  48273.81536599,\n",
       "        59203.18374584, 146638.13078462,  31879.76279622,  41442.96012858,\n",
       "        91854.67178063,  49503.36930872,  57017.31006987,  32836.08252945,\n",
       "        20950.39441637,  87073.07311445,  48683.66668023,  61935.5258408 ,\n",
       "        64121.39951677,  51006.15746095,  56334.22454613, 125052.62823442,\n",
       "        28464.33517751,  37344.44698614,  75597.23631561,  70679.02054468,\n",
       "        23272.88519708,  17671.58390241,  60432.73768857,  64667.86793576,\n",
       "        58656.71532684,  75733.85342036,  30513.59174873,  82018.24023877,\n",
       "        48547.04957548,  51006.15746095,  96499.65334207,  27781.24965377,\n",
       "       123959.69139643, 109478.27829314, 128194.82164363,  45404.85616628,\n",
       "        33655.78515794,  68766.3810782 ,  51006.15746095,  64667.86793576,\n",
       "        55104.67060339,  70542.40343993,  79832.3665628 , 164398.35440187,\n",
       "        75870.4705251 ,  45541.47327103,  45541.47327103,  56470.84165087,\n",
       "        59613.03506008,  37344.44698614,  95679.95071358,  44038.6851188 ,\n",
       "        70815.63764942,  63301.69688828,  53738.49955591,  61389.0574218 ,\n",
       "        98822.14412278,  76963.40736309,  89805.41520941,  59203.18374584,\n",
       "        75733.85342036, 114259.87695932,  30786.82595823,  75733.85342036,\n",
       "        55104.67060339,  28737.56938701, 115079.57958781,  61935.5258408 ,\n",
       "        27781.24965377, 105652.99936019,  34338.87068168,  85297.05075272,\n",
       "       130790.54663384,  75597.23631561,  50323.07193721,  71498.72317316,\n",
       "       224373.26338629,  28874.18649176,  54558.2021844 ,  78329.57841057,\n",
       "        57837.01269835,  68766.3810782 ,  55104.67060339,  41442.96012858,\n",
       "        70679.02054468,  55241.28770814,  26278.46150154,  70542.40343993,\n",
       "        61662.2916313 ,  85297.05075272,  68766.3810782 ,  75733.85342036,\n",
       "        42126.04565232, 150736.64392706,  78329.57841057,  53055.41403217,\n",
       "        68493.14686871,  38710.61803362,  41169.72591909,  78329.57841057,\n",
       "        56197.60744138,  33792.40226269,  38710.61803362,  76143.7047346 ,\n",
       "        71498.72317316,  33929.01936744,  30513.59174873,  27781.24965377,\n",
       "        75733.85342036,  68766.3810782 ,  44175.30222354,  91991.28888538,\n",
       "        74504.29947762,  34338.87068168,  52372.32850843,  31879.76279622,\n",
       "        57700.39559361,  82428.09155301,  69722.70081144,  71498.72317316,\n",
       "        69722.70081144,  18218.05232141, 109478.27829314,  55651.13902238,\n",
       "       124096.30850118,  63848.16530727, 143905.78868966,  40213.40618585,\n",
       "        55104.67060339,  37344.44698614,  60296.12058382,  45541.47327103,\n",
       "        57700.39559361,  28191.10096802,  37481.06409089,  52508.94561318,\n",
       "        33245.9338437 ,  60296.12058382,  82428.09155301,  46497.79300426,\n",
       "        64667.86793576, 102647.42305573,  35568.42462441,  57290.54427936,\n",
       "        30513.59174873,  83794.26260049,  32289.61411046,  55651.13902238,\n",
       "        50186.45483246, 128194.82164363,  25048.90755881,  69449.46660194,\n",
       "        70132.55212568,  82018.24023877,  30513.59174873,  60296.12058382,\n",
       "        60296.12058382,  83111.17707675,  38710.61803362,  94723.63098034,\n",
       "        85160.43364797,  51006.15746095,  60569.35479332,  75460.61921086,\n",
       "        45404.85616628,  23955.97072083,  45404.85616628,  31333.29437722,\n",
       "        51006.15746095,  75870.4705251 ,  25731.99308255,  32699.4654247 ])"
      ]
     },
     "execution_count": 186,
     "metadata": {},
     "output_type": "execute_result"
    }
   ],
   "source": [
    "clf.predict(x_train)"
   ]
  },
  {
   "cell_type": "code",
   "execution_count": 187,
   "metadata": {},
   "outputs": [
    {
     "data": {
      "text/plain": [
       "0.6926960236430327"
      ]
     },
     "execution_count": 187,
     "metadata": {},
     "output_type": "execute_result"
    }
   ],
   "source": [
    "clf.score(x_train,y_train)"
   ]
  },
  {
   "cell_type": "code",
   "execution_count": 191,
   "metadata": {},
   "outputs": [],
   "source": [
    "a=clf.predict(x_test)"
   ]
  },
  {
   "cell_type": "code",
   "execution_count": 192,
   "metadata": {},
   "outputs": [
    {
     "data": {
      "text/plain": [
       "82018.24023876796"
      ]
     },
     "execution_count": 192,
     "metadata": {},
     "output_type": "execute_result"
    }
   ],
   "source": [
    "a[1]"
   ]
  },
  {
   "cell_type": "code",
   "execution_count": 128,
   "metadata": {},
   "outputs": [
    {
     "data": {
      "image/png": "[encoded data removed]",
      "text/plain": [
       "<Figure size 432x288 with 1 Axes>"
      ]
     },
     "metadata": {
      "needs_background": "light"
     },
     "output_type": "display_data"
    }
   ],
   "source": [
    "plt.scatter(x_test.iloc[:,0],y_test,color='red')\n",
    "plt.plot(x_train.iloc[:,0],clf.predict(x_train),color='blue')\n",
    "plt.title('HOUSE RENTAL PRICE PREDICTION')\n",
    "plt.xlabel('Sqft')\n",
    "plt.ylabel('Price')\n",
    "plt.show()"
   ]
  },
  {
   "cell_type": "code",
   "execution_count": 129,
   "metadata": {},
   "outputs": [
    {
     "data": {
      "image/png": "[encoded data removed]",
      "text/plain": [
       "<Figure size 432x288 with 1 Axes>"
      ]
     },
     "metadata": {
      "needs_background": "light"
     },
     "output_type": "display_data"
    }
   ],
   "source": [
    "plt.scatter(x_train,y_train,color='red')\n",
    "plt.plot(x_train,clf.predict(x_train),color='blue')\n",
    "plt.title('HOUSE RENTAL PRICE PREDICTION')\n",
    "plt.xlabel('Sqft')\n",
    "plt.ylabel('Price')\n",
    "plt.show()"
   ]
  },
  {
   "cell_type": "code",
   "execution_count": 142,
   "metadata": {},
   "outputs": [
    {
     "data": {
      "image/png": "[encoded data removed]",
      "text/plain": [
       "<Figure size 432x288 with 1 Axes>"
      ]
     },
     "metadata": {
      "needs_background": "light"
     },
     "output_type": "display_data"
    }
   ],
   "source": [
    "plt.scatter(x_train,y_train,color='red')\n",
    "plt.plot(x_train,clf.predict(x_train),color='blue')\n",
    "plt.title('HOUSE RENTAL PRICE PREDICTION')\n",
    "plt.xlabel('Floor')\n",
    "plt.ylabel('Price')\n",
    "plt.show()"
   ]
  },
  {
   "cell_type": "code",
   "execution_count": 154,
   "metadata": {},
   "outputs": [
    {
     "data": {
      "image/png": "[encoded data removed]",
      "text/plain": [
       "<Figure size 432x288 with 1 Axes>"
      ]
     },
     "metadata": {
      "needs_background": "light"
     },
     "output_type": "display_data"
    }
   ],
   "source": [
    "plt.scatter(x_train,y_train,color='red')\n",
    "plt.plot(x_train,clf.predict(x_train),color='blue')\n",
    "plt.title('HOUSE RENTAL PRICE PREDICTION')\n",
    "plt.xlabel('TotalFloor')\n",
    "plt.ylabel('Price')\n",
    "plt.show()"
   ]
  },
  {
   "cell_type": "code",
   "execution_count": 155,
   "metadata": {},
   "outputs": [],
   "source": [
    "X_test = df.drop('Price', axis=1)\n",
    "Y_test = df['Price']"
   ]
  },
  {
   "cell_type": "code",
   "execution_count": 193,
   "metadata": {},
   "outputs": [
    {
     "data": {
      "text/html": [
       "<div>\n",
       "<style scoped>\n",
       "    .dataframe tbody tr th:only-of-type {\n",
       "        vertical-align: middle;\n",
       "    }\n",
       "\n",
       "    .dataframe tbody tr th {\n",
       "        vertical-align: top;\n",
       "    }\n",
       "\n",
       "    .dataframe thead th {\n",
       "        text-align: right;\n",
       "    }\n",
       "</style>\n",
       "<table border=\"1\" class=\"dataframe\">\n",
       "  <thead>\n",
       "    <tr style=\"text-align: right;\">\n",
       "      <th></th>\n",
       "      <th>Actual Price</th>\n",
       "      <th>Predicted Price</th>\n",
       "    </tr>\n",
       "  </thead>\n",
       "  <tbody>\n",
       "    <tr>\n",
       "      <th>361</th>\n",
       "      <td>65000</td>\n",
       "      <td>69995.935021</td>\n",
       "    </tr>\n",
       "    <tr>\n",
       "      <th>442</th>\n",
       "      <td>78000</td>\n",
       "      <td>82018.240239</td>\n",
       "    </tr>\n",
       "    <tr>\n",
       "      <th>459</th>\n",
       "      <td>57000</td>\n",
       "      <td>49503.369309</td>\n",
       "    </tr>\n",
       "    <tr>\n",
       "      <th>386</th>\n",
       "      <td>100000</td>\n",
       "      <td>88712.478371</td>\n",
       "    </tr>\n",
       "    <tr>\n",
       "      <th>624</th>\n",
       "      <td>120000</td>\n",
       "      <td>75597.236316</td>\n",
       "    </tr>\n",
       "    <tr>\n",
       "      <th>...</th>\n",
       "      <td>...</td>\n",
       "      <td>...</td>\n",
       "    </tr>\n",
       "    <tr>\n",
       "      <th>245</th>\n",
       "      <td>50000</td>\n",
       "      <td>45678.090376</td>\n",
       "    </tr>\n",
       "    <tr>\n",
       "      <th>62</th>\n",
       "      <td>45000</td>\n",
       "      <td>57837.012698</td>\n",
       "    </tr>\n",
       "    <tr>\n",
       "      <th>201</th>\n",
       "      <td>65999</td>\n",
       "      <td>57290.544279</td>\n",
       "    </tr>\n",
       "    <tr>\n",
       "      <th>274</th>\n",
       "      <td>26000</td>\n",
       "      <td>46907.644319</td>\n",
       "    </tr>\n",
       "    <tr>\n",
       "      <th>380</th>\n",
       "      <td>110000</td>\n",
       "      <td>86526.604695</td>\n",
       "    </tr>\n",
       "  </tbody>\n",
       "</table>\n",
       "<p>129 rows × 2 columns</p>\n",
       "</div>"
      ],
      "text/plain": [
       "     Actual Price  Predicted Price\n",
       "361         65000     69995.935021\n",
       "442         78000     82018.240239\n",
       "459         57000     49503.369309\n",
       "386        100000     88712.478371\n",
       "624        120000     75597.236316\n",
       "..            ...              ...\n",
       "245         50000     45678.090376\n",
       "62          45000     57837.012698\n",
       "201         65999     57290.544279\n",
       "274         26000     46907.644319\n",
       "380        110000     86526.604695\n",
       "\n",
       "[129 rows x 2 columns]"
      ]
     },
     "execution_count": 193,
     "metadata": {},
     "output_type": "execute_result"
    }
   ],
   "source": [
    "df = pd.DataFrame({'Actual Price': y_test, 'Predicted Price': a})\n",
    "df"
   ]
  },
  {
   "cell_type": "code",
   "execution_count": 194,
   "metadata": {},
   "outputs": [
    {
     "data": {
      "image/png": "[encoded data removed]",
      "text/plain": [
       "<Figure size 432x288 with 1 Axes>"
      ]
     },
     "metadata": {
      "needs_background": "light"
     },
     "output_type": "display_data"
    }
   ],
   "source": [
    "df1 = df.head(20)\n",
    "df1.plot(kind='bar')\n",
    "plt.show()"
   ]
  },
  {
   "cell_type": "code",
   "execution_count": null,
   "metadata": {},
   "outputs": [],
   "source": []
  }
 ],
 "metadata": {
  "kernelspec": {
   "display_name": "Python 3",
   "language": "python",
   "name": "python3"
  },
  "language_info": {
   "codemirror_mode": {
    "name": "ipython",
    "version": 3
   },
   "file_extension": ".py",
   "mimetype": "text/x-python",
   "name": "python",
   "nbconvert_exporter": "python",
   "pygments_lexer": "ipython3",
   "version": "3.7.6"
  }
 },
 "nbformat": 4,
 "nbformat_minor": 4
}
